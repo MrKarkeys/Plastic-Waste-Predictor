{
 "cells": [
  {
   "cell_type": "code",
   "execution_count": 28,
   "metadata": {},
   "outputs": [],
   "source": [
    "import pandas as pd"
   ]
  },
  {
   "cell_type": "code",
   "execution_count": 29,
   "metadata": {},
   "outputs": [],
   "source": [
    "def plastic_fate_pollution():\n",
    "    df = pd.read_csv('Original_Data/plastic-fate.csv')\n",
    "    df = df[df['Code'] == 'OWID_WRL']\n",
    "    df = df.drop(columns=['Entity', 'Code', 'Recycled', 'Incinerated', 'Landfilled'])\n",
    "    df['Total Pollution'] = df['Littered'] + df['Mismanaged']\n",
    "    df = df.drop(columns=['Littered', 'Mismanaged'])\n",
    "    df.to_csv('Preprocessed_Data/plastic-fate.csv', index=False)"
   ]
  },
  {
   "cell_type": "code",
   "execution_count": 30,
   "metadata": {},
   "outputs": [],
   "source": [
    "def plastic_waste_by_sector():\n",
    "    df = pd.read_csv('Original_Data/plastic-waste-by-sector.csv')\n",
    "    df = df.drop(columns=['Entity', 'Code'])\n",
    "    df['Total Waste'] = df['Transportation'] + df['Road marking'] + df['Marine coatings'] + df['Building and construction'] + df['Packaging'] + df['Textile sector'] + df['Personal care products'] + df['Other'] + df['Industrial machinery'] + df['Consumer and institutional products'] + df['Electronics']\n",
    "    df = df.drop(columns=['Transportation', 'Road marking', 'Marine coatings', 'Building and construction', 'Packaging', 'Textile sector', 'Personal care products', 'Other', 'Industrial machinery', 'Consumer and institutional products', 'Electronics'])\n",
    "    df.to_csv('Preprocessed_Data/plastic-waste-by-sector.csv', index=False)"
   ]
  },
  {
   "cell_type": "code",
   "execution_count": 31,
   "metadata": {},
   "outputs": [],
   "source": [
    "def global_plastics_production_pollution():\n",
    "    df = pd.read_csv('Original_Data/global-plastics-production.csv')\n",
    "    df = df.drop(columns=['Entity', 'Code'])\n",
    "    df = df[df['Year'] >= 2000]\n",
    "    df.to_csv('Preprocessed_Data/global-plastics-production-pollution.csv', index=False)\n"
   ]
  },
  {
   "cell_type": "code",
   "execution_count": 32,
   "metadata": {},
   "outputs": [],
   "source": [
    "def global_plastics_production_waste():\n",
    "    df = pd.read_csv('Original_Data/global-plastics-production.csv')\n",
    "    df = df.drop(columns=['Entity', 'Code'])\n",
    "    df = df[df['Year'] >= 1990]\n",
    "    df.to_csv('Preprocessed_Data/global-plastics-production-waste.csv', index=False)\n"
   ]
  },
  {
   "cell_type": "code",
   "execution_count": 33,
   "metadata": {},
   "outputs": [],
   "source": [
    "global_plastics_production_pollution()\n",
    "global_plastics_production_waste()\n",
    "plastic_fate_pollution()\n",
    "plastic_waste_by_sector()"
   ]
  }
 ],
 "metadata": {
  "kernelspec": {
   "display_name": "Python 3",
   "language": "python",
   "name": "python3"
  },
  "language_info": {
   "codemirror_mode": {
    "name": "ipython",
    "version": 3
   },
   "file_extension": ".py",
   "mimetype": "text/x-python",
   "name": "python",
   "nbconvert_exporter": "python",
   "pygments_lexer": "ipython3",
   "version": "3.13.2"
  }
 },
 "nbformat": 4,
 "nbformat_minor": 2
}
